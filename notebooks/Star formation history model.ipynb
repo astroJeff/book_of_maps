{
 "cells": [
  {
   "cell_type": "code",
   "execution_count": 2,
   "metadata": {
    "collapsed": false,
    "deletable": true,
    "editable": true
   },
   "outputs": [],
   "source": [
    "import numpy as np\n",
    "import matplotlib.pyplot as plt\n",
    "from scipy.integrate import quad\n",
    "from astropy.io import fits\n",
    "\n",
    "import sys\n",
    "sys.path.append(\"../code/\")\n",
    "from H_alpha_response import H_alpha_response_t\n",
    "\n",
    "%matplotlib inline"
   ]
  },
  {
   "cell_type": "markdown",
   "metadata": {
    "deletable": true,
    "editable": true
   },
   "source": [
    "### Constants"
   ]
  },
  {
   "cell_type": "code",
   "execution_count": 3,
   "metadata": {
    "collapsed": true,
    "deletable": true,
    "editable": true
   },
   "outputs": [],
   "source": [
    "t_max = 1.0e2  # in Myr\n",
    "bin_width = 5.0  # arcseconds\n",
    "bin_area = bin_width*bin_width  # square arcseconds"
   ]
  },
  {
   "cell_type": "markdown",
   "metadata": {
    "deletable": true,
    "editable": true
   },
   "source": [
    "### Load Halpha Image"
   ]
  },
  {
   "cell_type": "code",
   "execution_count": 11,
   "metadata": {
    "collapsed": false,
    "deletable": true,
    "editable": true
   },
   "outputs": [],
   "source": [
    "hdulist = fits.open(\"../data/NGC4449_lum_bin20.fits\")\n",
    "Halpha_map = hdulist[0].data\n",
    "Halpha_map += np.abs(np.min(Halpha_map))\n",
    "Halpha_map_err = np.sqrt(Halpha_map)\n",
    "\n",
    "x_pixels, y_pixels = Halpha_map.shape"
   ]
  },
  {
   "cell_type": "markdown",
   "metadata": {
    "deletable": true,
    "editable": true
   },
   "source": [
    "### Load global star formation history\n",
    "\n",
    "Figure 6 from Cignoni et al. (2018)"
   ]
  },
  {
   "cell_type": "code",
   "execution_count": 23,
   "metadata": {
    "collapsed": false
   },
   "outputs": [
    {
     "data": {
      "text/plain": [
       "4.722222222222222"
      ]
     },
     "execution_count": 23,
     "metadata": {},
     "output_type": "execute_result"
    }
   ],
   "source": [
    "0.0025 / 0.018 * np.sqrt(x_pixels * y_pixels)"
   ]
  },
  {
   "cell_type": "code",
   "execution_count": 22,
   "metadata": {
    "collapsed": false,
    "deletable": true,
    "editable": true
   },
   "outputs": [],
   "source": [
    "n_intervals = 8\n",
    "\n",
    "t0, t1, t2, t3, t4, t5, t6 = 5.0, 10.0, 15.0, 25.0, 40.0, 60.0, 100.0  # Myr\n",
    "sfr0, sfr1, sfr2, sfr3, sfr4, sfr5, sfr6, sfh7 = 0.018, 0.016, 0.032, 0.024, 0.025, 0.019, 0.028, 0.012  # Msun / yr \n",
    "sfr_err0, sfr_err1, sfr_err2, sfr_err3, sfr_err4, sfr_err5, sfr_err6, sfr_err7 = 0.0025, 0.0025, 0.0025, 0.0025, 0.0025, 0.0025, 0.0025, 0.0025\n",
    "\n",
    "\n",
    "def get_sfr_global(t, c):\n",
    "    \n",
    "    SFH_global = np.piecewise(t, \n",
    "                             [t<t0, (t>t0)&(t<=t1), (t>t1)&(t<=t2), (t>t2)&(t<=t3), (t>t3)&(t<=t4), (t>t4)&(t<=t5), (t>t5)&(t<=t6), t>t6],\n",
    "                             [c[0]*sfr0, c[1]*sfr1, c[2]*sfr2, c[3]*sfr3, c[4]*sfr4, c[5]*sfr5, c[6]*sfr6, c[7]*sfr7])\n",
    "\n",
    "    return SFH_global\n",
    "\n",
    "\n",
    "def get_sfr_err_global(t):\n",
    "    \n",
    "    SFH_err_global = np.piecewise(t, \n",
    "                                 [t<t0, (t>t0)&(t<=t1), (t>t1)&(t<=t2), (t>t2)&(t<=t3), (t>t3)&(t<=t4), (t>t4)&(t<=t5), (t>t5)&(t<=t6), t>t6],\n",
    "                                 [sfr_err0, sfr_err1, sfr_err2, sfr_err3, sfr_err4, sfr_err5, sfr_err6, sfr_err7])\n",
    "\n",
    "    return SFH_err_global"
   ]
  },
  {
   "cell_type": "markdown",
   "metadata": {
    "deletable": true,
    "editable": true
   },
   "source": [
    "### Functions for model"
   ]
  },
  {
   "cell_type": "code",
   "execution_count": 6,
   "metadata": {
    "collapsed": true,
    "deletable": true,
    "editable": true
   },
   "outputs": [],
   "source": [
    "def SFH_pixel(t, c):\n",
    "    return get_sfr_global(t, c)\n",
    "\n",
    "\n",
    "def integrand_I_Halpha(t, x, y, c):\n",
    "    return H_alpha_response_t(t) * SFH_pixel(t, c)\n",
    "    \n",
    "\n",
    "def calc_I_Halpha(x, y, c):\n",
    "    return quad(integrand_I_Halpha, 0, t_max, args=(x,y,c))[0]\n",
    "\n",
    "\n",
    "\n",
    "\n",
    "\n",
    "def ln_likelihood(c_full, Halpha_map):\n",
    "    \n",
    "    lnL_1 = calc_ln_likelihood_I_Halpha(c_full, Halpha_map)\n",
    "    lnL_2 = calc_ln_likelihood_SFH_global(c_full)\n",
    "    lnL_3 = calc_ln_likelihood_priors(c_full)\n",
    "    \n",
    "    return lnL_1 + lnL_2\n",
    "\n",
    "\n",
    "def calc_ln_likelihood_I_Halpha(c_full, Halpha_map):\n",
    "    \n",
    "    lnL = 0.0\n",
    "    \n",
    "    for i, x in enumerate(x_pixels):\n",
    "        for j, y in enumerate(y_pixels):\n",
    "            lnL += -(calc_I_Halpha(x, y, c) - Halpha_map[x,y])**2/Halpha_map_err[x,y]**2\n",
    "            \n",
    "    return lnL\n",
    "\n",
    "\n",
    "def calc_ln_likelihood_SFH_global(c_full):\n",
    "    \n",
    "    lnL = 0.0\n",
    "    \n",
    "    t_grid = [2.5, 8.0, 12.0, 18.0, 28.0, 50.0, 75.0, 150.0]\n",
    "    \n",
    "    for k, t in enumerate(t_grid):\n",
    "        \n",
    "        sfh_integrated = 0.0\n",
    "        for i, x in enumerate(range(x_pixels)):\n",
    "            for j, y in enumerate(range(y_pixels)):\n",
    "                sfh_integrated += get_sfr_global(t, c_full[i,j]) * bin_area\n",
    "                \n",
    "        lnL += -(sfh_integrated - sfh_global(t, np.ones(n_intervals).tolist()))**2/sfh_err_global(t)**2\n",
    "            \n",
    "    return lnL\n",
    "\n",
    "def calc_ln_likelihood_priors(c_full):\n",
    "    \n",
    "    lnL = 0.0\n",
    "    \n",
    "    for k, t in enumerate(range(n_intervals)):\n",
    "        for i, x in enumerate(range(x_pixels)):\n",
    "            for j, y in enumerate(range(y_pixels)):\n",
    "                lnL += -( 1.0 - c_full[i,j,k] )**2 / (0.2)**2"
   ]
  },
  {
   "cell_type": "markdown",
   "metadata": {
    "deletable": true,
    "editable": true
   },
   "source": [
    "### Initialize model parameters"
   ]
  },
  {
   "cell_type": "code",
   "execution_count": 15,
   "metadata": {
    "collapsed": false,
    "deletable": true,
    "editable": true
   },
   "outputs": [],
   "source": [
    "c_master = np.zeros((x_pixels, y_pixels))\n",
    "c_full = np.zeros((x_pixels, y_pixels, n_intervals))\n",
    "\n",
    "for i, x in enumerate(range(x_pixels)):\n",
    "    for j, y in enumerate(range(y_pixels)):\n",
    "        c_master[i,j] = Halpha_map[i,j]/np.sum(Halpha_map)\n",
    "        c_full[i,j] = np.ones(n_intervals)"
   ]
  },
  {
   "cell_type": "code",
   "execution_count": null,
   "metadata": {
    "collapsed": true,
    "deletable": true,
    "editable": true
   },
   "outputs": [],
   "source": []
  },
  {
   "cell_type": "code",
   "execution_count": null,
   "metadata": {
    "collapsed": true,
    "deletable": true,
    "editable": true
   },
   "outputs": [],
   "source": []
  },
  {
   "cell_type": "code",
   "execution_count": null,
   "metadata": {
    "collapsed": true,
    "deletable": true,
    "editable": true
   },
   "outputs": [],
   "source": []
  },
  {
   "cell_type": "code",
   "execution_count": null,
   "metadata": {
    "collapsed": true,
    "deletable": true,
    "editable": true
   },
   "outputs": [],
   "source": []
  }
 ],
 "metadata": {
  "anaconda-cloud": {},
  "kernelspec": {
   "display_name": "Python 3",
   "language": "python",
   "name": "python3"
  },
  "language_info": {
   "codemirror_mode": {
    "name": "ipython",
    "version": 3
   },
   "file_extension": ".py",
   "mimetype": "text/x-python",
   "name": "python",
   "nbconvert_exporter": "python",
   "pygments_lexer": "ipython3",
   "version": "3.5.2"
  }
 },
 "nbformat": 4,
 "nbformat_minor": 2
}
